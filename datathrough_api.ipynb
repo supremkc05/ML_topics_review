{
 "cells": [
  {
   "cell_type": "code",
   "execution_count": null,
   "id": "9400e509",
   "metadata": {},
   "outputs": [],
   "source": []
  },
  {
   "cell_type": "code",
   "execution_count": 26,
   "id": "5c8f15c7-e3dd-4d37-98ab-107c39604557",
   "metadata": {},
   "outputs": [],
   "source": [
    "import pandas as pd\n",
    "import requests"
   ]
  },
  {
   "cell_type": "code",
   "execution_count": 32,
   "id": "44ac9245-5b47-4754-811a-88bf9731f290",
   "metadata": {
    "scrolled": true
   },
   "outputs": [
    {
     "name": "stdout",
     "output_type": "stream",
     "text": [
      "{'tmdbId': 278, 'imdbId': 'tt0111161', 'lastUpdated': 1738173381282, 'ratings': {'imdb': {'score': 9.3, 'reviewsCount': 3000000, 'url': 'https://www.imdb.com/title/tt0111161/'}, 'metacritic': {'metascore': 82, 'userScore': 9.3, 'averageScore': 8.8, 'url': 'https://www.metacritic.com/movie/the-shawshank-redemption'}, 'rotten_tomatoes': {'tomatometer': 89, 'tomatometerReviewsCount': 146, 'audienceScore': 98, 'audienceScoreReviewsCount': 250000, 'averageScore': 9.4, 'url': 'https://www.rottentomatoes.com/m/shawshank_redemption'}, 'letterboxd': {'score': 4.6, 'url': 'https://letterboxd.com/film/the-shawshank-redemption'}, 'allocine': None, 'average': {'score': 9.12}}, 'media': {'backdrop_path': '/zfbjgQE1uSd9wiPTX4VzsLi0rGG.jpg', 'budget': 25000000, 'genres': [{'id': 18, 'name': 'Drama'}, {'id': 80, 'name': 'Crime'}], 'homepage': '', 'id': 278, 'imdb_id': 'tt0111161', 'origin_country': ['US'], 'original_language': 'en', 'original_title': 'The Shawshank Redemption', 'overview': 'Imprisoned in the 1940s for the double murder of his wife and her lover, upstanding banker Andy Dufresne begins a new life at the Shawshank prison, where he puts his accounting skills to work for an amoral warden. During his long stretch in prison, Dufresne comes to be admired by the other inmates -- including an older prisoner named Red -- for his integrity and unquenchable sense of hope.', 'popularity': 173.309, 'poster_path': '/9cqNxx0GxF0bflZmeSMuL5tnGzr.jpg', 'release_date': '1994-09-23', 'revenue': 28341469, 'runtime': 142, 'spoken_languages': [{'english_name': 'English', 'iso_639_1': 'en', 'name': 'English'}], 'status': 'Released', 'tagline': 'Fear can hold you prisoner. Hope can set you free.', 'title': 'The Shawshank Redemption', 'video': False, 'external_ids': {'imdb_id': 'tt0111161', 'wikidata_id': 'Q172241', 'facebook_id': None, 'instagram_id': None, 'twitter_id': None}, 'director': 'Frank Darabont', 'media_type': 'movie'}}\n"
     ]
    }
   ],
   "source": [
    "url = \"https://movies-ratings2.p.rapidapi.com/ratings\"\n",
    "\n",
    "querystring = {\"id\":\"tt0111161\"}\n",
    "\n",
    "headers = {\n",
    "\t\"x-rapidapi-key\": \"e0b90f8ffbmsh3028576faeae2d1p15f0efjsn6cc0441e3b6c\",\n",
    "\t\"x-rapidapi-host\": \"movies-ratings2.p.rapidapi.com\"\n",
    "}\n",
    "\n",
    "response = requests.get(url, headers=headers, params=querystring)\n",
    "\n",
    "print(response.json())"
   ]
  },
  {
   "cell_type": "code",
   "execution_count": 35,
   "id": "3c8eb578-5498-43ba-8e71-0f9a2b96ab59",
   "metadata": {},
   "outputs": [
    {
     "ename": "KeyError",
     "evalue": "'results'",
     "output_type": "error",
     "traceback": [
      "\u001b[1;31m---------------------------------------------------------------------------\u001b[0m",
      "\u001b[1;31mKeyError\u001b[0m                                  Traceback (most recent call last)",
      "Cell \u001b[1;32mIn[35], line 1\u001b[0m\n\u001b[1;32m----> 1\u001b[0m temp_df \u001b[38;5;241m=\u001b[39m pd\u001b[38;5;241m.\u001b[39mDataFrame(\u001b[43mresponse\u001b[49m\u001b[38;5;241;43m.\u001b[39;49m\u001b[43mjson\u001b[49m\u001b[43m(\u001b[49m\u001b[43m)\u001b[49m\u001b[43m[\u001b[49m\u001b[38;5;124;43m'\u001b[39;49m\u001b[38;5;124;43mresults\u001b[39;49m\u001b[38;5;124;43m'\u001b[39;49m\u001b[43m]\u001b[49m)[[\u001b[38;5;124m'\u001b[39m\u001b[38;5;124mimdb_id\u001b[39m\u001b[38;5;124m'\u001b[39m,\u001b[38;5;124m'\u001b[39m\u001b[38;5;124moriginal_title\u001b[39m\u001b[38;5;124m'\u001b[39m,\u001b[38;5;124m'\u001b[39m\u001b[38;5;124moverview\u001b[39m\u001b[38;5;124m'\u001b[39m,\u001b[38;5;124m'\u001b[39m\u001b[38;5;124mpopularity\u001b[39m\u001b[38;5;124m'\u001b[39m,\u001b[38;5;124m'\u001b[39m\u001b[38;5;124mrelease_date\u001b[39m\u001b[38;5;124m'\u001b[39m]]\n",
      "\u001b[1;31mKeyError\u001b[0m: 'results'"
     ]
    }
   ],
   "source": [
    "temp_df = pd.DataFrame(response.json()['results'])[['imdb_id','original_title','overview','popularity','release_date']]"
   ]
  },
  {
   "cell_type": "code",
   "execution_count": null,
   "id": "f4a860a0-e6d0-4df9-a1cb-29388cf9f991",
   "metadata": {},
   "outputs": [],
   "source": []
  }
 ],
 "metadata": {
  "kernelspec": {
   "display_name": "Python 3 (ipykernel)",
   "language": "python",
   "name": "python3"
  },
  "language_info": {
   "codemirror_mode": {
    "name": "ipython",
    "version": 3
   },
   "file_extension": ".py",
   "mimetype": "text/x-python",
   "name": "python",
   "nbconvert_exporter": "python",
   "pygments_lexer": "ipython3",
   "version": "3.12.7"
  }
 },
 "nbformat": 4,
 "nbformat_minor": 5
}
